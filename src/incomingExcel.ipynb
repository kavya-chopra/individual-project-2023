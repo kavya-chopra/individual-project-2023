{
 "cells": [
  {
   "cell_type": "code",
   "execution_count": 1,
   "metadata": {},
   "outputs": [],
   "source": [
    "import os, sys\n",
    "sys.path.append(os.path.abspath('../tsa/src/main/python'))"
   ]
  },
  {
   "cell_type": "code",
   "execution_count": 2,
   "metadata": {},
   "outputs": [],
   "source": [
    "from thalesians.tsa import pypes\n",
    "import xlwings as xw\n",
    "import numpy as np"
   ]
  },
  {
   "cell_type": "code",
   "execution_count": 3,
   "metadata": {},
   "outputs": [
    {
     "data": {
      "text/plain": [
       "Pype(name=\"TEST\", direction=Direction.INCOMING, host=\"localhost\", port=5758)"
      ]
     },
     "execution_count": 3,
     "metadata": {},
     "output_type": "execute_result"
    }
   ],
   "source": [
    "pype = pypes.Pype(pypes.Direction.INCOMING, name='TEST', port=5758); pype"
   ]
  },
  {
   "cell_type": "code",
   "execution_count": 4,
   "metadata": {},
   "outputs": [
    {
     "name": "stdout",
     "output_type": "stream",
     "text": [
      "A1: \n",
      "89.62430907421309\n",
      "\n",
      "\n",
      "A2: \n",
      "1.0\n",
      "\n",
      "\n"
     ]
    }
   ],
   "source": [
    "col = 'A'\n",
    "row = 1\n",
    "wb = xw.Book()\n",
    "sheet = wb.sheets['Sheet1']\n",
    "\n",
    "for x in pype:\n",
    "    sheet[col + str(row)].value = x\n",
    "    print(col + str(row) + ': ')\n",
    "    print(sheet[col + str(row)].value)\n",
    "    print('\\n')\n",
    "    row = row + 1"
   ]
  }
 ],
 "metadata": {
  "kernelspec": {
   "display_name": "Python 3.9.6 ('env': venv)",
   "language": "python",
   "name": "python3"
  },
  "language_info": {
   "codemirror_mode": {
    "name": "ipython",
    "version": 3
   },
   "file_extension": ".py",
   "mimetype": "text/x-python",
   "name": "python",
   "nbconvert_exporter": "python",
   "pygments_lexer": "ipython3",
   "version": "3.9.6"
  },
  "orig_nbformat": 4,
  "vscode": {
   "interpreter": {
    "hash": "79cc190d8d071bfdda9ba63fc6ef8c00079dde7d26cf5eda39b01d02125cbbaf"
   }
  }
 },
 "nbformat": 4,
 "nbformat_minor": 2
}
